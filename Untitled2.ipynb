{
  "nbformat": 4,
  "nbformat_minor": 0,
  "metadata": {
    "colab": {
      "provenance": [],
      "authorship_tag": "ABX9TyNck5RgOP7TbXJlA4j+H5fs",
      "include_colab_link": true
    },
    "kernelspec": {
      "name": "python3",
      "display_name": "Python 3"
    },
    "language_info": {
      "name": "python"
    }
  },
  "cells": [
    {
      "cell_type": "markdown",
      "metadata": {
        "id": "view-in-github",
        "colab_type": "text"
      },
      "source": [
        "<a href=\"https://colab.research.google.com/github/Uladzislau-Sidarovich/homework_Python/blob/main/Untitled2.ipynb\" target=\"_parent\"><img src=\"https://colab.research.google.com/assets/colab-badge.svg\" alt=\"Open In Colab\"/></a>"
      ]
    },
    {
      "cell_type": "markdown",
      "source": [
        "  # Задача 40\n",
        "  # 1.Работать с файлом california_housing_train.csv, который находится в папке sample_data.\n",
        "  # 2.Определить среднюю стоимость дома, где кол-во людей от 0 до 500 (population).\n"
      ],
      "metadata": {
        "id": "0qTNC7y4eKXm"
      }
    },
    {
      "cell_type": "code",
      "source": [
        "import pandas as pd\n",
        "\n",
        "\n",
        "df = pd.read_csv(\"sample_data/california_housing_train.csv\")\n",
        "\n",
        "df[df['population'] < 500]['median_house_value'].mean()"
      ],
      "metadata": {
        "colab": {
          "base_uri": "https://localhost:8080/"
        },
        "id": "E9ko-3_-fiWG",
        "outputId": "8dfb2f70-5dfa-4cf5-a7ba-1927f8118cde"
      },
      "execution_count": 14,
      "outputs": [
        {
          "output_type": "execute_result",
          "data": {
            "text/plain": [
              "206683.83635227982"
            ]
          },
          "metadata": {},
          "execution_count": 14
        }
      ]
    },
    {
      "cell_type": "markdown",
      "source": [],
      "metadata": {
        "id": "URc_W6HdeJnp"
      }
    },
    {
      "cell_type": "markdown",
      "source": [
        "# Задача 42\n",
        "# 1.Узнать какая максимальная households в зоне минимального значения population."
      ],
      "metadata": {
        "id": "QujEEqiYejum"
      }
    },
    {
      "cell_type": "code",
      "source": [
        "df[df['population'] == df['population'].min()]['households'].max()"
      ],
      "metadata": {
        "colab": {
          "base_uri": "https://localhost:8080/"
        },
        "id": "BTGiuDE1esi5",
        "outputId": "348a562c-8ecc-40fb-e6a4-1e3b1f468cf6"
      },
      "execution_count": 6,
      "outputs": [
        {
          "output_type": "execute_result",
          "data": {
            "text/plain": [
              "4.0"
            ]
          },
          "metadata": {},
          "execution_count": 6
        }
      ]
    }
  ]
}